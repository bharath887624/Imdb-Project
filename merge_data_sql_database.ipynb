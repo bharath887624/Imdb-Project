{
 "cells": [
  {
   "cell_type": "code",
   "execution_count": 4,
   "id": "70ae82d6",
   "metadata": {},
   "outputs": [],
   "source": [
    "import pandas as pd\n",
    "\n",
    "#add column to each csv for their genre & remove leading number in Movie name column\n",
    "af = pd.read_csv('imdb_action_movies_2024.csv')\n",
    "af['Movie_name'] = af['Movie_name'].str.replace(r'^\\d+\\.\\s*', '', regex=True) #remove the leading number\n",
    "af['genre'] = 'action'\n",
    "af.to_csv(\"imdb_action_movies_2024.csv\", index=False)\n",
    "\n",
    "bf = pd.read_csv('imdb_animation_movies_2024.csv')\n",
    "bf['Movie_name'] = bf['Movie_name'].str.replace(r'^\\d+\\.\\s*', '', regex=True)\n",
    "bf['genre'] = 'animation'\n",
    "bf.to_csv(\"imdb_animation_movies_2024.csv\", index=False)\n",
    "\n",
    "cf = pd.read_csv('imdb_crime_movies_2024.csv')\n",
    "cf['Movie_name'] = cf['Movie_name'].str.replace(r'^\\d+\\.\\s*', '', regex=True)\n",
    "cf['genre'] = 'crime'\n",
    "cf.to_csv(\"imdb_crime_movies_2024.csv\", index=False)\n",
    "\n",
    "ef = pd.read_csv('imdb_horror_movies_2024.csv')\n",
    "ef['Movie_name'] = ef['Movie_name'].str.replace(r'^\\d+\\.\\s*', '', regex=True)\n",
    "ef['genre'] = 'horror'\n",
    "ef.to_csv(\"imdb_horror_movies_2024.csv\", index=False)\n",
    "\n",
    "ff = pd.read_csv('imdb_romance_movies_2024.csv')\n",
    "ff['Movie_name'] = ff['Movie_name'].str.replace(r'^\\d+\\.\\s*', '', regex=True)\n",
    "ff['genre'] = 'romance'\n",
    "ff.to_csv(\"imdb_romance_movies_2024.csv\", index=False)"
   ]
  },
  {
   "cell_type": "code",
   "execution_count": 5,
   "id": "63320c9d",
   "metadata": {},
   "outputs": [
    {
     "name": "stdout",
     "output_type": "stream",
     "text": [
      "<class 'pandas.core.frame.DataFrame'>\n",
      "RangeIndex: 3564 entries, 0 to 3563\n",
      "Data columns (total 5 columns):\n",
      " #   Column      Non-Null Count  Dtype  \n",
      "---  ------      --------------  -----  \n",
      " 0   Movie_name  3564 non-null   object \n",
      " 1   Rating      3564 non-null   float64\n",
      " 2   Votes       3564 non-null   object \n",
      " 3   Duration    3564 non-null   object \n",
      " 4   genre       3564 non-null   object \n",
      "dtypes: float64(1), object(4)\n",
      "memory usage: 139.3+ KB\n"
     ]
    },
    {
     "data": {
      "text/html": [
       "<div>\n",
       "<style scoped>\n",
       "    .dataframe tbody tr th:only-of-type {\n",
       "        vertical-align: middle;\n",
       "    }\n",
       "\n",
       "    .dataframe tbody tr th {\n",
       "        vertical-align: top;\n",
       "    }\n",
       "\n",
       "    .dataframe thead th {\n",
       "        text-align: right;\n",
       "    }\n",
       "</style>\n",
       "<table border=\"1\" class=\"dataframe\">\n",
       "  <thead>\n",
       "    <tr style=\"text-align: right;\">\n",
       "      <th></th>\n",
       "      <th>Rating</th>\n",
       "    </tr>\n",
       "  </thead>\n",
       "  <tbody>\n",
       "    <tr>\n",
       "      <th>count</th>\n",
       "      <td>3564.000000</td>\n",
       "    </tr>\n",
       "    <tr>\n",
       "      <th>mean</th>\n",
       "      <td>5.921998</td>\n",
       "    </tr>\n",
       "    <tr>\n",
       "      <th>std</th>\n",
       "      <td>1.579876</td>\n",
       "    </tr>\n",
       "    <tr>\n",
       "      <th>min</th>\n",
       "      <td>1.000000</td>\n",
       "    </tr>\n",
       "    <tr>\n",
       "      <th>25%</th>\n",
       "      <td>4.900000</td>\n",
       "    </tr>\n",
       "    <tr>\n",
       "      <th>50%</th>\n",
       "      <td>6.000000</td>\n",
       "    </tr>\n",
       "    <tr>\n",
       "      <th>75%</th>\n",
       "      <td>7.000000</td>\n",
       "    </tr>\n",
       "    <tr>\n",
       "      <th>max</th>\n",
       "      <td>10.000000</td>\n",
       "    </tr>\n",
       "  </tbody>\n",
       "</table>\n",
       "</div>"
      ],
      "text/plain": [
       "            Rating\n",
       "count  3564.000000\n",
       "mean      5.921998\n",
       "std       1.579876\n",
       "min       1.000000\n",
       "25%       4.900000\n",
       "50%       6.000000\n",
       "75%       7.000000\n",
       "max      10.000000"
      ]
     },
     "execution_count": 5,
     "metadata": {},
     "output_type": "execute_result"
    }
   ],
   "source": [
    "#To merge csv file to a dataframe\n",
    "csv_files = ['imdb_action_movies_2024.csv', 'imdb_animation_movies_2024.csv', 'imdb_crime_movies_2024.csv', 'imdb_horror_movies_2024.csv', 'imdb_romance_movies_2024.csv']\n",
    "df_list = [pd.read_csv(file) for file in csv_files]\n",
    "merged_df = pd.concat(df_list, ignore_index=True)\n",
    "\n",
    "merged_df.info()\n",
    "\n",
    "merged_df.describe()"
   ]
  },
  {
   "cell_type": "code",
   "execution_count": 6,
   "id": "291a1665",
   "metadata": {},
   "outputs": [
    {
     "name": "stdout",
     "output_type": "stream",
     "text": [
      "Merged data moved to SQL database\n"
     ]
    }
   ],
   "source": [
    "from sqlalchemy import create_engine\n",
    "\n",
    "#MySQL Database\n",
    "host = \"localhost\"\n",
    "user = \"root\"\n",
    "password = \"root\"\n",
    "database = \"imdb\"\n",
    "\n",
    "#SQLAlchemy engine, install pymysql if not installed\n",
    "engine = create_engine(f\"mysql+pymysql://{user}:{password}@{host}/{database}\")\n",
    "\n",
    "#Store to MySQL Database table\n",
    "merged_df.to_sql('imdb_table', con=engine, if_exists='replace', index=False)\n",
    "\n",
    "print('Merged data moved to SQL database')"
   ]
  }
 ],
 "metadata": {
  "kernelspec": {
   "display_name": "base",
   "language": "python",
   "name": "python3"
  },
  "language_info": {
   "codemirror_mode": {
    "name": "ipython",
    "version": 3
   },
   "file_extension": ".py",
   "mimetype": "text/x-python",
   "name": "python",
   "nbconvert_exporter": "python",
   "pygments_lexer": "ipython3",
   "version": "3.12.7"
  }
 },
 "nbformat": 4,
 "nbformat_minor": 5
}
